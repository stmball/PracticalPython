{
  "nbformat": 4,
  "nbformat_minor": 0,
  "metadata": {
    "colab": {
      "name": "Week_0",
      "provenance": [],
      "collapsed_sections": [],
      "authorship_tag": "ABX9TyO7vU/lp1yBzKtbQJ7RReWK"
    },
    "kernelspec": {
      "name": "python3",
      "display_name": "Python 3"
    }
  },
  "cells": [
    {
      "cell_type": "markdown",
      "metadata": {
        "id": "gsayeX_raqAY"
      },
      "source": [
        "# Welcome to Week 0!\n",
        "\n",
        "The objective for this week is just to get comfortable with the tools we'll be using in the course, and understand what we're going to be doing. We'll get to coding properly next week but this week is just about getting set up correctly."
      ]
    },
    {
      "cell_type": "code",
      "metadata": {
        "id": "dT2fSnaIZ8wr"
      },
      "source": [
        "# Try and print 'Hello World!' with Python in the space below:\n"
      ],
      "execution_count": null,
      "outputs": []
    }
  ]
}